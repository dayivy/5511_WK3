{
 "cells": [
  {
   "cell_type": "markdown",
   "metadata": {},
   "source": [
    "# CNN Cancer Detection Kaggle Mini Project\n",
    "\n",
    "The goal of this Kaggle competition, is to create an algorithm to identify metastatic cancer \n",
    "in small image patches taken from larger digital pathology scans. \n",
    "The data for this competition are 96x96 pixel images separated in both training and test sets.\n",
    "\n",
    "## Introduction: Step 1\n",
    "    \n",
    "We will see how many training and test samples we have as well as verify the shapes of the samples are\n",
    "96x96x3 (96x96 pixels, 3 colors for RGB).  Also, as this is a binary classification problem, I will\n",
    "want to make sure the classes are balanced so as not to introduce any bias into the predictions"
   ]
  },
  {
   "cell_type": "markdown",
   "metadata": {},
   "source": [
    "# I AM NOT SURE WHY THE IMAGES DID NOT LOAD WHEN DOWNLOADING MY FILE FROM KAGGLE.  PLEASE SEE THE NOTEBOOK HERE FOR THE VISUALIZATIONS:\n",
    "\n",
    "https://www.kaggle.com/code/dayivy/cnn-cancer-detection-kaggle-mini-project\n"
   ]
  },
  {
   "cell_type": "code",
   "execution_count": 1,
   "metadata": {
    "execution": {
     "iopub.execute_input": "2022-05-22T15:40:00.420477Z",
     "iopub.status.busy": "2022-05-22T15:40:00.420166Z",
     "iopub.status.idle": "2022-05-22T15:40:00.768967Z",
     "shell.execute_reply": "2022-05-22T15:40:00.768218Z",
     "shell.execute_reply.started": "2022-05-22T15:40:00.420393Z"
    }
   },
   "outputs": [],
   "source": [
    "#import necessary packages and training labels\n",
    "import numpy as np\n",
    "import pandas as pd\n",
    "\n",
    "train_labels = pd.read_csv('../input/histopathologic-cancer-detection/train_labels.csv', dtype=str)\n",
    "print(train_labels.shape)"
   ]
  },
  {
   "cell_type": "code",
   "execution_count": 2,
   "metadata": {
    "execution": {
     "iopub.execute_input": "2022-05-22T15:40:04.940021Z",
     "iopub.status.busy": "2022-05-22T15:40:04.939477Z",
     "iopub.status.idle": "2022-05-22T15:40:04.958096Z",
     "shell.execute_reply": "2022-05-22T15:40:04.957306Z",
     "shell.execute_reply.started": "2022-05-22T15:40:04.939981Z"
    }
   },
   "outputs": [],
   "source": [
    "train_labels.head()"
   ]
  },
  {
   "cell_type": "code",
   "execution_count": 3,
   "metadata": {
    "execution": {
     "iopub.execute_input": "2022-05-22T15:40:08.226394Z",
     "iopub.status.busy": "2022-05-22T15:40:08.225610Z",
     "iopub.status.idle": "2022-05-22T15:40:08.234701Z",
     "shell.execute_reply": "2022-05-22T15:40:08.234025Z",
     "shell.execute_reply.started": "2022-05-22T15:40:08.226346Z"
    }
   },
   "outputs": [],
   "source": [
    "train_labels.dtypes"
   ]
  },
  {
   "cell_type": "code",
   "execution_count": 4,
   "metadata": {
    "execution": {
     "iopub.execute_input": "2022-05-22T15:40:10.889028Z",
     "iopub.status.busy": "2022-05-22T15:40:10.888664Z",
     "iopub.status.idle": "2022-05-22T15:40:10.934996Z",
     "shell.execute_reply": "2022-05-22T15:40:10.934271Z",
     "shell.execute_reply.started": "2022-05-22T15:40:10.888984Z"
    }
   },
   "outputs": [],
   "source": [
    "train_labels['label'] = train_labels['label'].astype(float)"
   ]
  },
  {
   "cell_type": "code",
   "execution_count": 5,
   "metadata": {
    "execution": {
     "iopub.execute_input": "2022-05-22T15:40:14.509205Z",
     "iopub.status.busy": "2022-05-22T15:40:14.508349Z",
     "iopub.status.idle": "2022-05-22T15:40:21.125367Z",
     "shell.execute_reply": "2022-05-22T15:40:21.124533Z",
     "shell.execute_reply.started": "2022-05-22T15:40:14.509157Z"
    }
   },
   "outputs": [],
   "source": [
    "import os\n",
    "print(len(os.listdir('../input/histopathologic-cancer-detection/train/')))\n",
    "print(len(os.listdir('../input/histopathologic-cancer-detection/test/')))"
   ]
  },
  {
   "cell_type": "markdown",
   "metadata": {},
   "source": [
    "So, we see we have 220,025 training samples and 57,458 test samples."
   ]
  },
  {
   "cell_type": "code",
   "execution_count": 6,
   "metadata": {
    "execution": {
     "iopub.execute_input": "2022-05-22T15:40:23.994412Z",
     "iopub.status.busy": "2022-05-22T15:40:23.994119Z",
     "iopub.status.idle": "2022-05-22T15:40:23.999972Z",
     "shell.execute_reply": "2022-05-22T15:40:23.999280Z",
     "shell.execute_reply.started": "2022-05-22T15:40:23.994380Z"
    }
   },
   "outputs": [],
   "source": [
    "len(train_labels)"
   ]
  },
  {
   "cell_type": "markdown",
   "metadata": {},
   "source": [
    "## Step 2: Exploratory Data Analysis\n",
    "\n",
    "I will now look to do any data cleaning and figure out my plan of how to approach this task.  Initially I will want to determine if the classes in the training set are unbalanced."
   ]
  },
  {
   "cell_type": "code",
   "execution_count": 7,
   "metadata": {
    "execution": {
     "iopub.execute_input": "2022-05-22T15:40:27.713602Z",
     "iopub.status.busy": "2022-05-22T15:40:27.712960Z",
     "iopub.status.idle": "2022-05-22T15:40:27.730394Z",
     "shell.execute_reply": "2022-05-22T15:40:27.729560Z",
     "shell.execute_reply.started": "2022-05-22T15:40:27.713556Z"
    }
   },
   "outputs": [],
   "source": [
    "train_labels['label'].value_counts()"
   ]
  },
  {
   "cell_type": "code",
   "execution_count": 8,
   "metadata": {
    "execution": {
     "iopub.execute_input": "2022-05-22T15:40:30.995749Z",
     "iopub.status.busy": "2022-05-22T15:40:30.995048Z",
     "iopub.status.idle": "2022-05-22T15:40:31.123784Z",
     "shell.execute_reply": "2022-05-22T15:40:31.122935Z",
     "shell.execute_reply.started": "2022-05-22T15:40:30.995698Z"
    }
   },
   "outputs": [],
   "source": [
    "train_labels['label'].value_counts().plot(kind='pie')"
   ]
  },
  {
   "cell_type": "markdown",
   "metadata": {},
   "source": [
    "There is a class imbalance in the training data with significantly more non-cancerous images (label '0') versus cancerous (label '1').  I will reduce the size of label 0 by random undersampling of that set in order to match the same size as the set of images with label 1."
   ]
  },
  {
   "cell_type": "code",
   "execution_count": 9,
   "metadata": {
    "execution": {
     "iopub.execute_input": "2022-05-22T15:40:35.034804Z",
     "iopub.status.busy": "2022-05-22T15:40:35.034514Z",
     "iopub.status.idle": "2022-05-22T15:40:35.056128Z",
     "shell.execute_reply": "2022-05-22T15:40:35.055467Z",
     "shell.execute_reply.started": "2022-05-22T15:40:35.034772Z"
    }
   },
   "outputs": [],
   "source": [
    "#split into two sets based on labels\n",
    "train_labels_pos = train_labels[train_labels['label']==1]\n",
    "train_labels_neg = train_labels[train_labels['label']==0]"
   ]
  },
  {
   "cell_type": "code",
   "execution_count": 10,
   "metadata": {
    "execution": {
     "iopub.execute_input": "2022-05-22T15:40:38.156568Z",
     "iopub.status.busy": "2022-05-22T15:40:38.155847Z",
     "iopub.status.idle": "2022-05-22T15:40:38.175978Z",
     "shell.execute_reply": "2022-05-22T15:40:38.175310Z",
     "shell.execute_reply.started": "2022-05-22T15:40:38.156529Z"
    }
   },
   "outputs": [],
   "source": [
    "#take a random sample of the neg labels of the same size as the set of pos labels\n",
    "train_labels_neg = train_labels_neg.sample(n = train_labels_pos.shape[0])"
   ]
  },
  {
   "cell_type": "code",
   "execution_count": 11,
   "metadata": {
    "execution": {
     "iopub.execute_input": "2022-05-22T15:40:40.730846Z",
     "iopub.status.busy": "2022-05-22T15:40:40.730074Z",
     "iopub.status.idle": "2022-05-22T15:40:40.736170Z",
     "shell.execute_reply": "2022-05-22T15:40:40.735481Z",
     "shell.execute_reply.started": "2022-05-22T15:40:40.730798Z"
    }
   },
   "outputs": [],
   "source": [
    "#confirm both sets are of the same size\n",
    "print(train_labels_neg.shape[0])\n",
    "print(train_labels_pos.shape[0])"
   ]
  },
  {
   "cell_type": "code",
   "execution_count": 12,
   "metadata": {
    "execution": {
     "iopub.execute_input": "2022-05-22T15:40:43.601895Z",
     "iopub.status.busy": "2022-05-22T15:40:43.599553Z",
     "iopub.status.idle": "2022-05-22T15:40:43.676171Z",
     "shell.execute_reply": "2022-05-22T15:40:43.675389Z",
     "shell.execute_reply.started": "2022-05-22T15:40:43.601835Z"
    }
   },
   "outputs": [],
   "source": [
    "#combine and randomize the two sets\n",
    "train_labels_balanced = pd.concat([train_labels_neg,train_labels_pos]).sample(frac=1, random_state=12345).reset_index(drop=True)\n",
    "train_labels_balanced.head()"
   ]
  },
  {
   "cell_type": "code",
   "execution_count": 13,
   "metadata": {
    "execution": {
     "iopub.execute_input": "2022-05-22T15:40:46.590568Z",
     "iopub.status.busy": "2022-05-22T15:40:46.590313Z",
     "iopub.status.idle": "2022-05-22T15:40:46.596426Z",
     "shell.execute_reply": "2022-05-22T15:40:46.595753Z",
     "shell.execute_reply.started": "2022-05-22T15:40:46.590539Z"
    }
   },
   "outputs": [],
   "source": [
    "#confirm final set has the expected amount and shape\n",
    "train_labels_balanced.shape"
   ]
  },
  {
   "cell_type": "code",
   "execution_count": 14,
   "metadata": {
    "execution": {
     "iopub.execute_input": "2022-05-22T15:40:49.174009Z",
     "iopub.status.busy": "2022-05-22T15:40:49.173170Z",
     "iopub.status.idle": "2022-05-22T15:40:49.182580Z",
     "shell.execute_reply": "2022-05-22T15:40:49.181894Z",
     "shell.execute_reply.started": "2022-05-22T15:40:49.173970Z"
    }
   },
   "outputs": [],
   "source": [
    "#confirm final set has the expected value counts\n",
    "train_labels_balanced['label'].value_counts()"
   ]
  },
  {
   "cell_type": "code",
   "execution_count": 15,
   "metadata": {
    "execution": {
     "iopub.execute_input": "2022-05-22T15:40:51.500408Z",
     "iopub.status.busy": "2022-05-22T15:40:51.499873Z",
     "iopub.status.idle": "2022-05-22T15:40:51.581875Z",
     "shell.execute_reply": "2022-05-22T15:40:51.581029Z",
     "shell.execute_reply.started": "2022-05-22T15:40:51.500368Z"
    }
   },
   "outputs": [],
   "source": [
    "train_labels_balanced['label'].value_counts().plot(kind='pie')"
   ]
  },
  {
   "cell_type": "markdown",
   "metadata": {},
   "source": [
    "Now I will look at a several images to see what we are actually trying to classif and confirm they are of the expected size"
   ]
  },
  {
   "cell_type": "code",
   "execution_count": 16,
   "metadata": {
    "execution": {
     "iopub.execute_input": "2022-05-22T15:40:55.056149Z",
     "iopub.status.busy": "2022-05-22T15:40:55.055756Z",
     "iopub.status.idle": "2022-05-22T15:40:55.331239Z",
     "shell.execute_reply": "2022-05-22T15:40:55.330533Z",
     "shell.execute_reply.started": "2022-05-22T15:40:55.056115Z"
    }
   },
   "outputs": [],
   "source": [
    "import matplotlib.pyplot as plt\n",
    "import matplotlib.image as mpimg\n",
    "\n",
    "img = mpimg.imread(f'../input/histopathologic-cancer-detection/train/{train_labels_balanced.iloc[47,0]}.tif')\n",
    "imgplot = plt.imshow(img)"
   ]
  },
  {
   "cell_type": "code",
   "execution_count": 17,
   "metadata": {
    "execution": {
     "iopub.execute_input": "2022-05-22T15:40:59.135882Z",
     "iopub.status.busy": "2022-05-22T15:40:59.135143Z",
     "iopub.status.idle": "2022-05-22T15:40:59.139984Z",
     "shell.execute_reply": "2022-05-22T15:40:59.139159Z",
     "shell.execute_reply.started": "2022-05-22T15:40:59.135836Z"
    }
   },
   "outputs": [],
   "source": [
    "print(img.shape)"
   ]
  },
  {
   "cell_type": "code",
   "execution_count": 18,
   "metadata": {
    "execution": {
     "iopub.execute_input": "2022-05-22T15:41:02.192097Z",
     "iopub.status.busy": "2022-05-22T15:41:02.191479Z",
     "iopub.status.idle": "2022-05-22T15:41:02.197080Z",
     "shell.execute_reply": "2022-05-22T15:41:02.196295Z",
     "shell.execute_reply.started": "2022-05-22T15:41:02.192060Z"
    }
   },
   "outputs": [],
   "source": [
    "sample_imgs = np.random.choice(train_labels_balanced.index,15)\n"
   ]
  },
  {
   "cell_type": "code",
   "execution_count": 19,
   "metadata": {
    "execution": {
     "iopub.execute_input": "2022-05-22T15:41:05.608507Z",
     "iopub.status.busy": "2022-05-22T15:41:05.607997Z",
     "iopub.status.idle": "2022-05-22T15:41:07.924814Z",
     "shell.execute_reply": "2022-05-22T15:41:07.924180Z",
     "shell.execute_reply.started": "2022-05-22T15:41:05.608461Z"
    }
   },
   "outputs": [],
   "source": [
    "fig, ax = plt.subplots(5, 3,figsize=(20,20))\n",
    "\n",
    "for i in range(0, sample_imgs.shape[0]):\n",
    "    ax = plt.subplot(5, 3, i+1)\n",
    "    img = mpimg.imread(f'../input/histopathologic-cancer-detection/train/{train_labels_balanced.iloc[sample_imgs[i],0]}.tif')\n",
    "    ax.imshow(img)\n",
    "    lab = train_labels_balanced.iloc[sample_imgs[i],1]\n",
    "    ax.set_title('Label: %s'%lab)\n",
    "    \n",
    "plt.tight_layout()"
   ]
  },
  {
   "cell_type": "markdown",
   "metadata": {},
   "source": [
    "So, we can see some images are vastly different from others, and with no medical training I cant possibly tell which images are indicative of cancer and which arent.  Hopefully, with deep learning, the model will be able to!\n",
    "\n",
    "## Step 3: Model Architecture\n",
    "\n",
    "I will initially attempt to use a model architecture based on the VGGNet model.  This utilizes blocks of convulutions in a [Conv-Conv-MaxPool] set repeated n times.  This is a fairly simple architecture for a beginner like my self to develop and understand so I will stick with that for this assignment.\n",
    "\n",
    "I will try a couple of different block sizes then look to further tune other hyperparameters such as optimization methods and activation functions.\n",
    "\n",
    "For the first step, I will split the training set into a training subset and a validation subset.  I will use these same subsets throughout this process in order to remain consistent."
   ]
  },
  {
   "cell_type": "code",
   "execution_count": 20,
   "metadata": {
    "execution": {
     "iopub.execute_input": "2022-05-22T15:41:15.888184Z",
     "iopub.status.busy": "2022-05-22T15:41:15.887599Z",
     "iopub.status.idle": "2022-05-22T15:41:16.855295Z",
     "shell.execute_reply": "2022-05-22T15:41:16.854331Z",
     "shell.execute_reply.started": "2022-05-22T15:41:15.888143Z"
    }
   },
   "outputs": [],
   "source": [
    "from sklearn.model_selection import train_test_split"
   ]
  },
  {
   "cell_type": "code",
   "execution_count": 21,
   "metadata": {
    "execution": {
     "iopub.execute_input": "2022-05-22T15:41:19.001641Z",
     "iopub.status.busy": "2022-05-22T15:41:19.001370Z",
     "iopub.status.idle": "2022-05-22T15:41:19.084608Z",
     "shell.execute_reply": "2022-05-22T15:41:19.083921Z",
     "shell.execute_reply.started": "2022-05-22T15:41:19.001611Z"
    }
   },
   "outputs": [],
   "source": [
    "train_df, valid_df = train_test_split(train_labels_balanced, test_size=0.25, random_state=1234, stratify=train_labels_balanced.label)"
   ]
  },
  {
   "cell_type": "code",
   "execution_count": 27,
   "metadata": {
    "execution": {
     "iopub.execute_input": "2022-05-22T15:54:25.044865Z",
     "iopub.status.busy": "2022-05-22T15:54:25.044492Z",
     "iopub.status.idle": "2022-05-22T15:54:25.050836Z",
     "shell.execute_reply": "2022-05-22T15:54:25.049878Z",
     "shell.execute_reply.started": "2022-05-22T15:54:25.044828Z"
    }
   },
   "outputs": [],
   "source": [
    "#import tensorflow and keras as well as any necessary packages\n",
    "import tensorflow as tf\n",
    "from tensorflow.keras.models import Sequential\n",
    "from tensorflow import keras\n",
    "from keras.layers import Dense, Activation, Flatten, Dropout, BatchNormalization\n",
    "from keras.layers import Conv2D, MaxPooling2D\n",
    "from keras import regularizers, optimizers\n",
    "from keras.layers import PReLU\n",
    "from keras.initializers import Constant\n",
    "\n",
    "from tensorflow.keras.preprocessing.image import ImageDataGenerator"
   ]
  },
  {
   "cell_type": "code",
   "execution_count": 23,
   "metadata": {
    "execution": {
     "iopub.execute_input": "2022-05-22T15:41:45.809392Z",
     "iopub.status.busy": "2022-05-22T15:41:45.808543Z",
     "iopub.status.idle": "2022-05-22T15:41:45.867332Z",
     "shell.execute_reply": "2022-05-22T15:41:45.866484Z",
     "shell.execute_reply.started": "2022-05-22T15:41:45.809345Z"
    }
   },
   "outputs": [],
   "source": [
    "train_df['id'] = train_df['id']+'.tif'\n",
    "valid_df['id'] = valid_df['id']+'.tif'"
   ]
  },
  {
   "cell_type": "code",
   "execution_count": 24,
   "metadata": {
    "execution": {
     "iopub.execute_input": "2022-05-22T15:41:48.815628Z",
     "iopub.status.busy": "2022-05-22T15:41:48.814974Z",
     "iopub.status.idle": "2022-05-22T15:41:48.913382Z",
     "shell.execute_reply": "2022-05-22T15:41:48.912425Z",
     "shell.execute_reply.started": "2022-05-22T15:41:48.815587Z"
    }
   },
   "outputs": [],
   "source": [
    "train_df['label'] = train_df['label'].astype(str)\n",
    "valid_df['label'] = valid_df['label'].astype(str)"
   ]
  },
  {
   "cell_type": "code",
   "execution_count": 25,
   "metadata": {
    "execution": {
     "iopub.execute_input": "2022-05-22T15:41:52.578998Z",
     "iopub.status.busy": "2022-05-22T15:41:52.578603Z",
     "iopub.status.idle": "2022-05-22T15:48:00.245780Z",
     "shell.execute_reply": "2022-05-22T15:48:00.245012Z",
     "shell.execute_reply.started": "2022-05-22T15:41:52.578962Z"
    }
   },
   "outputs": [],
   "source": [
    "#create the training and validation subsets\n",
    "train_datagen=ImageDataGenerator(rescale=1/255)\n",
    "\n",
    "train_generator=train_datagen.flow_from_dataframe(dataframe=train_df,directory=\"../input/histopathologic-cancer-detection/train/\",\n",
    "                x_col=\"id\",y_col=\"label\",batch_size=64,seed=1234,shuffle=True,\n",
    "                class_mode=\"binary\",target_size=(96,96))\n",
    "\n",
    "valid_generator=train_datagen.flow_from_dataframe(dataframe=valid_df,directory=\"../input/histopathologic-cancer-detection/train/\",\n",
    "                x_col=\"id\",y_col=\"label\",batch_size=64,seed=1234,shuffle=True,\n",
    "                class_mode=\"binary\",target_size=(96,96))\n"
   ]
  },
  {
   "cell_type": "code",
   "execution_count": 54,
   "metadata": {
    "execution": {
     "iopub.execute_input": "2022-05-21T19:00:12.502013Z",
     "iopub.status.busy": "2022-05-21T19:00:12.501409Z",
     "iopub.status.idle": "2022-05-21T19:00:12.738798Z",
     "shell.execute_reply": "2022-05-21T19:00:12.737978Z",
     "shell.execute_reply.started": "2022-05-21T19:00:12.501971Z"
    }
   },
   "outputs": [],
   "source": [
    "#initial model with 4 sets of 2 convolutional layers\n",
    "model = Sequential()\n",
    "model.add(Conv2D(32, (3, 3), padding='same',input_shape=(96,96,3)))\n",
    "model.add(Activation('relu'))\n",
    "model.add(Conv2D(32, (3, 3)))\n",
    "model.add(Activation('relu'))\n",
    "model.add(MaxPooling2D(pool_size=(2, 2)))\n",
    "model.add(BatchNormalization())\n",
    "\n",
    "model.add(Conv2D(64, (3, 3)))\n",
    "model.add(Activation('relu'))\n",
    "model.add(Conv2D(64, (3, 3)))\n",
    "model.add(Activation('relu'))\n",
    "model.add(MaxPooling2D(pool_size=(2, 2)))\n",
    "model.add(BatchNormalization())\n",
    "\n",
    "model.add(Conv2D(128, (3, 3)))\n",
    "model.add(Activation('relu'))\n",
    "model.add(Conv2D(128, (3, 3)))\n",
    "model.add(Activation('relu'))\n",
    "model.add(MaxPooling2D(pool_size=(2, 2)))\n",
    "model.add(BatchNormalization())\n",
    "\n",
    "model.add(Conv2D(256, (3, 3)))\n",
    "model.add(Activation('relu'))\n",
    "model.add(Conv2D(256, (3, 3)))\n",
    "model.add(Activation('relu'))\n",
    "model.add(MaxPooling2D(pool_size=(2, 2)))\n",
    "model.add(BatchNormalization())\n",
    "          \n",
    "model.add(Flatten())\n",
    "model.add(Dropout(0.25))\n",
    "model.add(Dense(512))\n",
    "model.add(Activation('relu'))\n",
    "\n",
    "model.add(Dropout(0.25))\n",
    "model.add(Dense(256))\n",
    "model.add(Activation('relu'))\n",
    "\n",
    "model.add(Dropout(0.25))\n",
    "model.add(Dense(64))\n",
    "model.add(Activation('relu')) \n",
    "\n",
    "model.add(Dropout(0.25))\n",
    "model.add(Dense(1, activation='sigmoid'))\n",
    "opt = tf.keras.optimizers.Adam(0.001)\n",
    "model.compile(loss='binary_crossentropy', optimizer=opt, metrics=['accuracy'])\n"
   ]
  },
  {
   "cell_type": "code",
   "execution_count": 55,
   "metadata": {
    "execution": {
     "iopub.execute_input": "2022-05-21T19:00:17.716451Z",
     "iopub.status.busy": "2022-05-21T19:00:17.716079Z",
     "iopub.status.idle": "2022-05-21T19:00:17.748571Z",
     "shell.execute_reply": "2022-05-21T19:00:17.747819Z",
     "shell.execute_reply.started": "2022-05-21T19:00:17.716408Z"
    }
   },
   "outputs": [],
   "source": [
    "model.summary()"
   ]
  },
  {
   "cell_type": "code",
   "execution_count": 56,
   "metadata": {
    "execution": {
     "iopub.execute_input": "2022-05-21T19:00:23.650122Z",
     "iopub.status.busy": "2022-05-21T19:00:23.649842Z",
     "iopub.status.idle": "2022-05-21T21:38:18.466779Z",
     "shell.execute_reply": "2022-05-21T21:38:18.465972Z",
     "shell.execute_reply.started": "2022-05-21T19:00:23.650088Z"
    }
   },
   "outputs": [],
   "source": [
    "STEP_SIZE_TRAIN=train_generator.n//train_generator.batch_size\n",
    "STEP_SIZE_VALID=valid_generator.n//valid_generator.batch_size\n",
    "\n",
    "history = model.fit_generator(generator=train_generator,\n",
    "                    steps_per_epoch=STEP_SIZE_TRAIN,\n",
    "                    validation_data=valid_generator,\n",
    "                    validation_steps=STEP_SIZE_VALID,\n",
    "                    epochs=30, verbose=1\n",
    ")"
   ]
  },
  {
   "cell_type": "code",
   "execution_count": 58,
   "metadata": {
    "execution": {
     "iopub.execute_input": "2022-05-21T21:55:12.860765Z",
     "iopub.status.busy": "2022-05-21T21:55:12.860155Z",
     "iopub.status.idle": "2022-05-21T21:55:13.162985Z",
     "shell.execute_reply": "2022-05-21T21:55:13.162165Z",
     "shell.execute_reply.started": "2022-05-21T21:55:12.860727Z"
    }
   },
   "outputs": [],
   "source": [
    "#next model with 3 sets of 5 convolutional layers\n",
    "model2 = Sequential()\n",
    "model2.add(Conv2D(32, (3, 3), padding='same',input_shape=(96,96,3)))\n",
    "model2.add(Activation('relu'))\n",
    "model2.add(Conv2D(32, (3, 3)))\n",
    "model2.add(Activation('relu'))\n",
    "model2.add(Conv2D(32, (3, 3)))\n",
    "model2.add(Activation('relu'))\n",
    "model2.add(Conv2D(32, (3, 3)))\n",
    "model2.add(Activation('relu'))\n",
    "model2.add(Conv2D(32, (3, 3)))\n",
    "model2.add(Activation('relu'))\n",
    "model2.add(MaxPooling2D(pool_size=(2, 2)))\n",
    "model2.add(BatchNormalization())\n",
    "\n",
    "model2.add(Conv2D(64, (3, 3)))\n",
    "model2.add(Activation('relu'))\n",
    "model2.add(Conv2D(64, (3, 3)))\n",
    "model2.add(Activation('relu'))\n",
    "model2.add(Conv2D(64, (3, 3)))\n",
    "model2.add(Activation('relu'))\n",
    "model2.add(Conv2D(64, (3, 3)))\n",
    "model2.add(Activation('relu'))\n",
    "model2.add(Conv2D(64, (3, 3)))\n",
    "model2.add(Activation('relu'))\n",
    "model2.add(MaxPooling2D(pool_size=(2, 2)))\n",
    "model2.add(BatchNormalization())\n",
    "\n",
    "model2.add(Conv2D(128, (3, 3)))\n",
    "model2.add(Activation('relu'))\n",
    "model2.add(Conv2D(128, (3, 3)))\n",
    "model2.add(Activation('relu'))\n",
    "model2.add(Conv2D(128, (3, 3)))\n",
    "model2.add(Activation('relu'))\n",
    "model2.add(Conv2D(128, (3, 3)))\n",
    "model2.add(Activation('relu'))\n",
    "model2.add(Conv2D(128, (3, 3)))\n",
    "model2.add(Activation('relu'))\n",
    "model2.add(MaxPooling2D(pool_size=(2, 2)))\n",
    "model2.add(BatchNormalization())\n",
    "          \n",
    "model2.add(Flatten())\n",
    "model2.add(Dropout(0.25))\n",
    "model2.add(Dense(512))\n",
    "model2.add(Activation('relu'))\n",
    "\n",
    "model2.add(Dropout(0.25))\n",
    "model2.add(Dense(256))\n",
    "model2.add(Activation('relu'))\n",
    "\n",
    "model2.add(Dropout(0.25))\n",
    "model2.add(Dense(64))\n",
    "model2.add(Activation('relu')) \n",
    "\n",
    "model2.add(Dropout(0.25))\n",
    "model2.add(Dense(1, activation='sigmoid'))\n",
    "opt = tf.keras.optimizers.Adam(0.001)\n",
    "model2.compile(loss='binary_crossentropy', optimizer=opt, metrics=['accuracy'])\n"
   ]
  },
  {
   "cell_type": "code",
   "execution_count": 59,
   "metadata": {
    "execution": {
     "iopub.execute_input": "2022-05-21T21:55:16.878239Z",
     "iopub.status.busy": "2022-05-21T21:55:16.877828Z",
     "iopub.status.idle": "2022-05-21T21:55:16.908977Z",
     "shell.execute_reply": "2022-05-21T21:55:16.908211Z",
     "shell.execute_reply.started": "2022-05-21T21:55:16.878199Z"
    }
   },
   "outputs": [],
   "source": [
    "model2.summary()"
   ]
  },
  {
   "cell_type": "code",
   "execution_count": 60,
   "metadata": {
    "execution": {
     "iopub.execute_input": "2022-05-21T21:55:23.930154Z",
     "iopub.status.busy": "2022-05-21T21:55:23.929151Z",
     "iopub.status.idle": "2022-05-22T00:33:36.304328Z",
     "shell.execute_reply": "2022-05-22T00:33:36.303355Z",
     "shell.execute_reply.started": "2022-05-21T21:55:23.930109Z"
    }
   },
   "outputs": [],
   "source": [
    "STEP_SIZE_TRAIN=train_generator.n//train_generator.batch_size\n",
    "STEP_SIZE_VALID=valid_generator.n//valid_generator.batch_size\n",
    "\n",
    "history2 = model2.fit_generator(generator=train_generator,\n",
    "                    steps_per_epoch=STEP_SIZE_TRAIN,\n",
    "                    validation_data=valid_generator,\n",
    "                    validation_steps=STEP_SIZE_VALID,\n",
    "                    epochs=30, verbose=1\n",
    ")"
   ]
  },
  {
   "cell_type": "markdown",
   "metadata": {},
   "source": [
    "I will now take a look at the plots of the accuracy of the training vs validation sets to see which model architecture appears to be the best.  I will then move forward with further hyperparameter tuning."
   ]
  },
  {
   "cell_type": "code",
   "execution_count": 67,
   "metadata": {
    "execution": {
     "iopub.execute_input": "2022-05-22T00:48:08.775332Z",
     "iopub.status.busy": "2022-05-22T00:48:08.774615Z",
     "iopub.status.idle": "2022-05-22T00:48:08.996924Z",
     "shell.execute_reply": "2022-05-22T00:48:08.996148Z",
     "shell.execute_reply.started": "2022-05-22T00:48:08.775269Z"
    }
   },
   "outputs": [],
   "source": [
    "plt.plot(history.history['accuracy'])\n",
    "plt.plot(history.history['val_accuracy'])\n",
    "plt.title('model loss')\n",
    "plt.ylabel('loss')\n",
    "plt.xlabel('epoch')\n",
    "plt.legend(['train', 'val'], loc='upper left')\n",
    "plt.show()"
   ]
  },
  {
   "cell_type": "code",
   "execution_count": 68,
   "metadata": {
    "execution": {
     "iopub.execute_input": "2022-05-22T00:48:13.055082Z",
     "iopub.status.busy": "2022-05-22T00:48:13.054218Z",
     "iopub.status.idle": "2022-05-22T00:48:13.260914Z",
     "shell.execute_reply": "2022-05-22T00:48:13.260176Z",
     "shell.execute_reply.started": "2022-05-22T00:48:13.055032Z"
    }
   },
   "outputs": [],
   "source": [
    "plt.plot(history2.history['accuracy'])\n",
    "plt.plot(history2.history['val_accuracy'])\n",
    "plt.title('model2 accuracy')\n",
    "plt.ylabel('accuracy')\n",
    "plt.xlabel('epoch')\n",
    "plt.legend(['train', 'val'], loc='upper left')\n",
    "plt.show()"
   ]
  },
  {
   "cell_type": "markdown",
   "metadata": {},
   "source": [
    "So, we see the second model with more convolutional layers seems to be slightly better on the validation set.  We are able to reach about 90% accuracy after 10-15 epochs.  Using this model going forward, I will compare a different optimization method and finally different activations in order to tune the hyperparameters."
   ]
  },
  {
   "cell_type": "code",
   "execution_count": 71,
   "metadata": {
    "execution": {
     "iopub.execute_input": "2022-05-22T00:51:09.679585Z",
     "iopub.status.busy": "2022-05-22T00:51:09.679267Z",
     "iopub.status.idle": "2022-05-22T00:51:09.981658Z",
     "shell.execute_reply": "2022-05-22T00:51:09.980835Z",
     "shell.execute_reply.started": "2022-05-22T00:51:09.679552Z"
    }
   },
   "outputs": [],
   "source": [
    "#next model with 3 sets of 5 convolutional layers\n",
    "model3 = Sequential()\n",
    "model3.add(Conv2D(32, (3, 3), padding='same',input_shape=(96,96,3)))\n",
    "model3.add(Activation('relu'))\n",
    "model3.add(Conv2D(32, (3, 3)))\n",
    "model3.add(Activation('relu'))\n",
    "model3.add(Conv2D(32, (3, 3)))\n",
    "model3.add(Activation('relu'))\n",
    "model3.add(Conv2D(32, (3, 3)))\n",
    "model3.add(Activation('relu'))\n",
    "model3.add(Conv2D(32, (3, 3)))\n",
    "model3.add(Activation('relu'))\n",
    "model3.add(MaxPooling2D(pool_size=(2, 2)))\n",
    "model3.add(BatchNormalization())\n",
    "\n",
    "model3.add(Conv2D(64, (3, 3)))\n",
    "model3.add(Activation('relu'))\n",
    "model3.add(Conv2D(64, (3, 3)))\n",
    "model3.add(Activation('relu'))\n",
    "model3.add(Conv2D(64, (3, 3)))\n",
    "model3.add(Activation('relu'))\n",
    "model3.add(Conv2D(64, (3, 3)))\n",
    "model3.add(Activation('relu'))\n",
    "model3.add(Conv2D(64, (3, 3)))\n",
    "model3.add(Activation('relu'))\n",
    "model3.add(MaxPooling2D(pool_size=(2, 2)))\n",
    "model3.add(BatchNormalization())\n",
    "\n",
    "model3.add(Conv2D(128, (3, 3)))\n",
    "model3.add(Activation('relu'))\n",
    "model3.add(Conv2D(128, (3, 3)))\n",
    "model3.add(Activation('relu'))\n",
    "model3.add(Conv2D(128, (3, 3)))\n",
    "model3.add(Activation('relu'))\n",
    "model3.add(Conv2D(128, (3, 3)))\n",
    "model3.add(Activation('relu'))\n",
    "model3.add(Conv2D(128, (3, 3)))\n",
    "model3.add(Activation('relu'))\n",
    "model3.add(MaxPooling2D(pool_size=(2, 2)))\n",
    "model3.add(BatchNormalization())\n",
    "          \n",
    "model3.add(Flatten())\n",
    "model3.add(Dropout(0.25))\n",
    "model3.add(Dense(512))\n",
    "model3.add(Activation('relu'))\n",
    "\n",
    "model3.add(Dropout(0.25))\n",
    "model3.add(Dense(256))\n",
    "model3.add(Activation('relu'))\n",
    "\n",
    "model3.add(Dropout(0.25))\n",
    "model3.add(Dense(64))\n",
    "model3.add(Activation('relu')) \n",
    "\n",
    "model3.add(Dropout(0.25))\n",
    "model3.add(Dense(1, activation='sigmoid'))\n",
    "opt = tf.keras.optimizers.RMSprop(0.001)\n",
    "model3.compile(loss='binary_crossentropy', optimizer=opt, metrics=['accuracy'])\n"
   ]
  },
  {
   "cell_type": "code",
   "execution_count": 72,
   "metadata": {
    "execution": {
     "iopub.execute_input": "2022-05-22T00:51:20.104596Z",
     "iopub.status.busy": "2022-05-22T00:51:20.104281Z",
     "iopub.status.idle": "2022-05-22T00:51:20.132415Z",
     "shell.execute_reply": "2022-05-22T00:51:20.131627Z",
     "shell.execute_reply.started": "2022-05-22T00:51:20.104564Z"
    }
   },
   "outputs": [],
   "source": [
    "model3.summary()"
   ]
  },
  {
   "cell_type": "code",
   "execution_count": 73,
   "metadata": {
    "execution": {
     "iopub.execute_input": "2022-05-22T00:51:54.868917Z",
     "iopub.status.busy": "2022-05-22T00:51:54.868626Z",
     "iopub.status.idle": "2022-05-22T03:28:13.576668Z",
     "shell.execute_reply": "2022-05-22T03:28:13.575823Z",
     "shell.execute_reply.started": "2022-05-22T00:51:54.868885Z"
    }
   },
   "outputs": [],
   "source": [
    "STEP_SIZE_TRAIN=train_generator.n//train_generator.batch_size\n",
    "STEP_SIZE_VALID=valid_generator.n//valid_generator.batch_size\n",
    "\n",
    "history3 = model3.fit_generator(generator=train_generator,\n",
    "                    steps_per_epoch=STEP_SIZE_TRAIN,\n",
    "                    validation_data=valid_generator,\n",
    "                    validation_steps=STEP_SIZE_VALID,\n",
    "                    epochs=30, verbose=1\n",
    ")"
   ]
  },
  {
   "cell_type": "code",
   "execution_count": 74,
   "metadata": {
    "execution": {
     "iopub.execute_input": "2022-05-22T03:29:39.490389Z",
     "iopub.status.busy": "2022-05-22T03:29:39.490091Z",
     "iopub.status.idle": "2022-05-22T03:29:39.701768Z",
     "shell.execute_reply": "2022-05-22T03:29:39.700979Z",
     "shell.execute_reply.started": "2022-05-22T03:29:39.490357Z"
    }
   },
   "outputs": [],
   "source": [
    "plt.plot(history3.history['accuracy'])\n",
    "plt.plot(history3.history['val_accuracy'])\n",
    "plt.title('model3 accuracy')\n",
    "plt.ylabel('accuracy')\n",
    "plt.xlabel('epoch')\n",
    "plt.legend(['train', 'val'], loc='upper left')\n",
    "plt.show()"
   ]
  },
  {
   "cell_type": "markdown",
   "metadata": {},
   "source": [
    "So, we see the model with RMSprop as the optimizer does not seem to be as stable at least in the validation set and the accuracy still appears to be improving even after 30 epochs whereas the model utilizing Adam optimizer had converged by that point.  I will continue with the model utilizing Adam optimization, comparing the activation function (relu vs prelu) before determining what the final model will be."
   ]
  },
  {
   "cell_type": "code",
   "execution_count": 28,
   "metadata": {
    "execution": {
     "iopub.execute_input": "2022-05-22T15:54:37.157819Z",
     "iopub.status.busy": "2022-05-22T15:54:37.157541Z",
     "iopub.status.idle": "2022-05-22T15:54:37.485822Z",
     "shell.execute_reply": "2022-05-22T15:54:37.485128Z",
     "shell.execute_reply.started": "2022-05-22T15:54:37.157788Z"
    }
   },
   "outputs": [],
   "source": [
    "#next model with 3 sets of 5 convolutional layers, using prelu activations\n",
    "model4 = Sequential()\n",
    "model4.add(Conv2D(32, (3, 3), padding='same',input_shape=(96,96,3)))\n",
    "model4.add(PReLU(alpha_initializer=Constant(value=0.25)))\n",
    "model4.add(Conv2D(32, (3, 3)))\n",
    "model4.add(PReLU(alpha_initializer=Constant(value=0.25)))\n",
    "model4.add(Conv2D(32, (3, 3)))\n",
    "model4.add(PReLU(alpha_initializer=Constant(value=0.25)))\n",
    "model4.add(Conv2D(32, (3, 3)))\n",
    "model4.add(PReLU(alpha_initializer=Constant(value=0.25)))\n",
    "model4.add(Conv2D(32, (3, 3)))\n",
    "model4.add(PReLU(alpha_initializer=Constant(value=0.25)))\n",
    "model4.add(MaxPooling2D(pool_size=(2, 2)))\n",
    "model4.add(BatchNormalization())\n",
    "\n",
    "model4.add(Conv2D(64, (3, 3)))\n",
    "model4.add(PReLU(alpha_initializer=Constant(value=0.25)))\n",
    "model4.add(Conv2D(64, (3, 3)))\n",
    "model4.add(PReLU(alpha_initializer=Constant(value=0.25)))\n",
    "model4.add(Conv2D(64, (3, 3)))\n",
    "model4.add(PReLU(alpha_initializer=Constant(value=0.25)))\n",
    "model4.add(Conv2D(64, (3, 3)))\n",
    "model4.add(PReLU(alpha_initializer=Constant(value=0.25)))\n",
    "model4.add(Conv2D(64, (3, 3)))\n",
    "model4.add(PReLU(alpha_initializer=Constant(value=0.25)))\n",
    "model4.add(MaxPooling2D(pool_size=(2, 2)))\n",
    "model4.add(BatchNormalization())\n",
    "\n",
    "model4.add(Conv2D(128, (3, 3)))\n",
    "model4.add(PReLU(alpha_initializer=Constant(value=0.25)))\n",
    "model4.add(Conv2D(128, (3, 3)))\n",
    "model4.add(PReLU(alpha_initializer=Constant(value=0.25)))\n",
    "model4.add(Conv2D(128, (3, 3)))\n",
    "model4.add(PReLU(alpha_initializer=Constant(value=0.25)))\n",
    "model4.add(Conv2D(128, (3, 3)))\n",
    "model4.add(PReLU(alpha_initializer=Constant(value=0.25)))\n",
    "model4.add(Conv2D(128, (3, 3)))\n",
    "model4.add(PReLU(alpha_initializer=Constant(value=0.25)))\n",
    "model4.add(MaxPooling2D(pool_size=(2, 2)))\n",
    "model4.add(BatchNormalization())\n",
    "          \n",
    "model4.add(Flatten())\n",
    "model4.add(Dropout(0.25))\n",
    "model4.add(Dense(512))\n",
    "model4.add(PReLU(alpha_initializer=Constant(value=0.25)))\n",
    "\n",
    "model4.add(Dropout(0.25))\n",
    "model4.add(Dense(256))\n",
    "model4.add(PReLU(alpha_initializer=Constant(value=0.25)))\n",
    "\n",
    "model4.add(Dropout(0.25))\n",
    "model4.add(Dense(64))\n",
    "model4.add(PReLU(alpha_initializer=Constant(value=0.25)))\n",
    "\n",
    "model4.add(Dropout(0.25))\n",
    "model4.add(Dense(1, activation='sigmoid'))\n",
    "opt = tf.keras.optimizers.RMSprop(0.001)\n",
    "model4.compile(loss='binary_crossentropy', optimizer=opt, metrics=['accuracy'])\n"
   ]
  },
  {
   "cell_type": "code",
   "execution_count": 29,
   "metadata": {
    "execution": {
     "iopub.execute_input": "2022-05-22T15:54:43.251875Z",
     "iopub.status.busy": "2022-05-22T15:54:43.251535Z",
     "iopub.status.idle": "2022-05-22T15:54:43.278113Z",
     "shell.execute_reply": "2022-05-22T15:54:43.277414Z",
     "shell.execute_reply.started": "2022-05-22T15:54:43.251841Z"
    }
   },
   "outputs": [],
   "source": [
    "model4.summary()"
   ]
  },
  {
   "cell_type": "code",
   "execution_count": 30,
   "metadata": {
    "execution": {
     "iopub.execute_input": "2022-05-22T15:54:51.969816Z",
     "iopub.status.busy": "2022-05-22T15:54:51.969519Z",
     "iopub.status.idle": "2022-05-22T18:39:25.526052Z",
     "shell.execute_reply": "2022-05-22T18:39:25.524797Z",
     "shell.execute_reply.started": "2022-05-22T15:54:51.969783Z"
    }
   },
   "outputs": [],
   "source": [
    "STEP_SIZE_TRAIN=train_generator.n//train_generator.batch_size\n",
    "STEP_SIZE_VALID=valid_generator.n//valid_generator.batch_size\n",
    "\n",
    "history4 = model4.fit_generator(generator=train_generator,\n",
    "                    steps_per_epoch=STEP_SIZE_TRAIN,\n",
    "                    validation_data=valid_generator,\n",
    "                    validation_steps=STEP_SIZE_VALID,\n",
    "                    epochs=30, verbose=1\n",
    ")"
   ]
  },
  {
   "cell_type": "code",
   "execution_count": 31,
   "metadata": {
    "execution": {
     "iopub.execute_input": "2022-05-22T18:39:40.926012Z",
     "iopub.status.busy": "2022-05-22T18:39:40.925686Z",
     "iopub.status.idle": "2022-05-22T18:39:41.135373Z",
     "shell.execute_reply": "2022-05-22T18:39:41.134635Z",
     "shell.execute_reply.started": "2022-05-22T18:39:40.925974Z"
    }
   },
   "outputs": [],
   "source": [
    "plt.plot(history4.history['accuracy'])\n",
    "plt.plot(history4.history['val_accuracy'])\n",
    "plt.title('model3 accuracy')\n",
    "plt.ylabel('accuracy')\n",
    "plt.xlabel('epoch')\n",
    "plt.legend(['train', 'val'], loc='upper left')\n",
    "plt.show()"
   ]
  },
  {
   "cell_type": "markdown",
   "metadata": {},
   "source": [
    "So, we see with PReLU activation, the model converged faster (reaching nearly 100% accuracy on the training set within 30 epochs) and the validation set accuracy was much more stable.  This makes sense as the ReLU activation suffers from vanishing gradients and can essentially \"turn off\" nodes which may actually be the nodes we need for different instances.  From the images, we know that not every image is perfectly centered so the important \"nodes\" in our model could really occur anywhere and we shouldnt look to turn them completely off if at all possible."
   ]
  },
  {
   "cell_type": "code",
   "execution_count": 32,
   "metadata": {
    "execution": {
     "iopub.execute_input": "2022-05-22T18:44:26.539488Z",
     "iopub.status.busy": "2022-05-22T18:44:26.539226Z",
     "iopub.status.idle": "2022-05-22T18:44:26.578334Z",
     "shell.execute_reply": "2022-05-22T18:44:26.577687Z",
     "shell.execute_reply.started": "2022-05-22T18:44:26.539459Z"
    }
   },
   "outputs": [],
   "source": [
    "test_set = os.listdir('../input/histopathologic-cancer-detection/test/')\n"
   ]
  },
  {
   "cell_type": "code",
   "execution_count": 33,
   "metadata": {
    "execution": {
     "iopub.execute_input": "2022-05-22T18:44:29.849846Z",
     "iopub.status.busy": "2022-05-22T18:44:29.849231Z",
     "iopub.status.idle": "2022-05-22T18:44:29.861124Z",
     "shell.execute_reply": "2022-05-22T18:44:29.860394Z",
     "shell.execute_reply.started": "2022-05-22T18:44:29.849808Z"
    }
   },
   "outputs": [],
   "source": [
    "test_df = pd.DataFrame(test_set)\n",
    "test_df.columns = ['id']\n",
    "test_df.head()"
   ]
  },
  {
   "cell_type": "code",
   "execution_count": 34,
   "metadata": {
    "execution": {
     "iopub.execute_input": "2022-05-22T18:44:34.335361Z",
     "iopub.status.busy": "2022-05-22T18:44:34.334781Z",
     "iopub.status.idle": "2022-05-22T18:47:12.528000Z",
     "shell.execute_reply": "2022-05-22T18:47:12.526303Z",
     "shell.execute_reply.started": "2022-05-22T18:44:34.335322Z"
    }
   },
   "outputs": [],
   "source": [
    "test_datagen=ImageDataGenerator(rescale=1/255)\n",
    "\n",
    "test_generator=test_datagen.flow_from_dataframe(dataframe=test_df,directory=\"../input/histopathologic-cancer-detection/test/\",\n",
    "                x_col=\"id\",batch_size=64,seed=1234,shuffle=False,\n",
    "                class_mode=None,target_size=(96,96))"
   ]
  },
  {
   "cell_type": "code",
   "execution_count": null,
   "metadata": {
    "execution": {
     "iopub.execute_input": "2022-05-20T22:28:52.717987Z",
     "iopub.status.busy": "2022-05-20T22:28:52.717723Z",
     "iopub.status.idle": "2022-05-20T22:30:11.411702Z",
     "shell.execute_reply": "2022-05-20T22:30:11.411022Z",
     "shell.execute_reply.started": "2022-05-20T22:28:52.717958Z"
    }
   },
   "outputs": [],
   "source": [
    "STEP_SIZE_TEST=test_generator.n/2\n",
    "\n",
    "preds = model4.predict_generator(generator=test_generator,steps=STEP_SIZE_TEST, verbose = 1)"
   ]
  },
  {
   "cell_type": "code",
   "execution_count": null,
   "metadata": {
    "execution": {
     "iopub.execute_input": "2022-05-20T22:31:36.28252Z",
     "iopub.status.busy": "2022-05-20T22:31:36.282187Z",
     "iopub.status.idle": "2022-05-20T22:31:36.422889Z",
     "shell.execute_reply": "2022-05-20T22:31:36.422092Z",
     "shell.execute_reply.started": "2022-05-20T22:31:36.282488Z"
    }
   },
   "outputs": [],
   "source": [
    "predictions = []\n",
    "\n",
    "for pred in preds:\n",
    "    if pred >= 0.5:\n",
    "        predictions.append(1)\n",
    "    else:\n",
    "        predictions.append(0)\n",
    "        \n",
    "predictions[:10]"
   ]
  },
  {
   "cell_type": "code",
   "execution_count": null,
   "metadata": {
    "execution": {
     "iopub.execute_input": "2022-05-20T22:37:46.609317Z",
     "iopub.status.busy": "2022-05-20T22:37:46.608783Z",
     "iopub.status.idle": "2022-05-20T22:37:46.677187Z",
     "shell.execute_reply": "2022-05-20T22:37:46.676383Z",
     "shell.execute_reply.started": "2022-05-20T22:37:46.609283Z"
    }
   },
   "outputs": [],
   "source": [
    "submission = test_df.copy()\n",
    "submission['id']=submission['id'].str[:-4]\n",
    "submission['label']=predictions\n",
    "submission.head()"
   ]
  },
  {
   "cell_type": "code",
   "execution_count": null,
   "metadata": {
    "execution": {
     "iopub.execute_input": "2022-05-20T22:38:03.383694Z",
     "iopub.status.busy": "2022-05-20T22:38:03.383406Z",
     "iopub.status.idle": "2022-05-20T22:38:03.394611Z",
     "shell.execute_reply": "2022-05-20T22:38:03.393783Z",
     "shell.execute_reply.started": "2022-05-20T22:38:03.383654Z"
    }
   },
   "outputs": [],
   "source": [
    "submission.to_csv('submission.csv',index=False)"
   ]
  }
 ],
 "metadata": {
  "kernelspec": {
   "display_name": "Python 3",
   "language": "python",
   "name": "python3"
  },
  "language_info": {
   "codemirror_mode": {
    "name": "ipython",
    "version": 3
   },
   "file_extension": ".py",
   "mimetype": "text/x-python",
   "name": "python",
   "nbconvert_exporter": "python",
   "pygments_lexer": "ipython3",
   "version": "3.6.13"
  }
 },
 "nbformat": 4,
 "nbformat_minor": 4
}
